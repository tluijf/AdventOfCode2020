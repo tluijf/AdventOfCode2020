{
 "cells": [
  {
   "cell_type": "code",
   "execution_count": 98,
   "metadata": {},
   "outputs": [],
   "source": [
    "import re\n",
    "import numpy as np\n",
    "def read_file(name):\n",
    "    return [line.rstrip('\\n') for line in open(name)]"
   ]
  },
  {
   "cell_type": "code",
   "execution_count": 99,
   "metadata": {},
   "outputs": [
    {
     "name": "stdout",
     "output_type": "stream",
     "text": [
      "2.2 ms ± 88.2 µs per loop (mean ± std. dev. of 7 runs, 100 loops each)\n"
     ]
    },
    {
     "data": {
      "text/plain": [
       "23122"
      ]
     },
     "execution_count": 99,
     "metadata": {},
     "output_type": "execute_result"
    }
   ],
   "source": [
    "def day16a(data):\n",
    "    allowed_ranges = set()\n",
    "    error_rate = 0\n",
    "    for r in [d for d in data if d != \"\"]:\n",
    "        if not r[0].isdigit():\n",
    "            field = r.split(':')\n",
    "            ranges = re.findall('(\\d+)', field[1])\n",
    "            allowed_ranges.update([d for i in range(0, len(ranges),2) for d in range(int(ranges[i]), int(ranges[i+1])+1)])\n",
    "        else:\n",
    "            error_rate += sum([int(i) for i in r.split(',') if int(i) not in allowed_ranges])\n",
    "    return error_rate\n",
    "%timeit day16a(read_file('input/16.txt'))\n",
    "day16a(read_file('input/16.txt'))"
   ]
  },
  {
   "cell_type": "code",
   "execution_count": 128,
   "metadata": {
    "scrolled": false
   },
   "outputs": [
    {
     "name": "stdout",
     "output_type": "stream",
     "text": [
      "342 ms ± 7.01 ms per loop (mean ± std. dev. of 7 runs, 1 loop each)\n"
     ]
    },
    {
     "data": {
      "text/plain": [
       "362974212989"
      ]
     },
     "execution_count": 128,
     "metadata": {},
     "output_type": "execute_result"
    }
   ],
   "source": [
    "def day16b(data):\n",
    "    ticket_fields = {}\n",
    "    available_fields = {}\n",
    "    allowed_ranges = set()\n",
    "    for ri, r in enumerate([d for d in data if d != \"\"]):\n",
    "        if not r[0].isdigit():\n",
    "            if 'your ticket:' in r:\n",
    "                own_ticket = [int(i) for i in data[ri+2].split(',')]\n",
    "            elif 'nearby tickets' not in r:\n",
    "                field = r.split(':')\n",
    "                ranges = re.findall('(\\d+)', field[1])\n",
    "                f = [d for i in range(0, len(ranges),2) for d in range(int(ranges[i]), int(ranges[i+1])+1)]\n",
    "                allowed_ranges.update(f)\n",
    "                ticket_fields[field[0]] = f\n",
    "                available_fields[field[0]] = None\n",
    "        else:\n",
    "            fields = [int(i) for i in r.split(',')]\n",
    "            errors = [i for i in fields if i not in allowed_ranges]\n",
    "            if errors == []:\n",
    "                for i, field in enumerate(fields):\n",
    "                    for k, v in ticket_fields.items():\n",
    "                        if available_fields[k] == None:\n",
    "                            available_fields[k] = [i for i in range(len(own_ticket))]\n",
    "                        if field not in v and i in available_fields[k]:\n",
    "                            available_fields[k].remove(i)\n",
    "    too_many = 1\n",
    "    while too_many > 0:\n",
    "        too_many = len(available_fields.keys())\n",
    "        for k,v in available_fields.items():\n",
    "            if len(v) == 1:\n",
    "                available_fields = {kk:[i for i in vv if i not in v or kk == k] for kk,vv in available_fields.items()}\n",
    "                too_many -= 1\n",
    "    needed_fields = [own_ticket[v[0]] for k,v in available_fields.items() if 'departure' in k]\n",
    "    return np.prod(needed_fields, dtype=np.int64)\n",
    "%timeit day16b(read_file('input/16.txt'))\n",
    "day16b(read_file('input/16.txt'))"
   ]
  },
  {
   "cell_type": "code",
   "execution_count": null,
   "metadata": {},
   "outputs": [],
   "source": []
  }
 ],
 "metadata": {
  "kernelspec": {
   "display_name": "Python 3",
   "language": "python",
   "name": "python3"
  },
  "language_info": {
   "codemirror_mode": {
    "name": "ipython",
    "version": 3
   },
   "file_extension": ".py",
   "mimetype": "text/x-python",
   "name": "python",
   "nbconvert_exporter": "python",
   "pygments_lexer": "ipython3",
   "version": "3.7.3"
  }
 },
 "nbformat": 4,
 "nbformat_minor": 2
}
