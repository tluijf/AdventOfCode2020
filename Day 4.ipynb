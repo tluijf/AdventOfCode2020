{
 "cells": [
  {
   "cell_type": "code",
   "execution_count": null,
   "metadata": {},
   "outputs": [],
   "source": [
    "import ast\n",
    "import re\n",
    "fileName = '4.txt'\n",
    "data = [line.rstrip('\\n') for line in open(fileName)]"
   ]
  },
  {
   "cell_type": "code",
   "execution_count": null,
   "metadata": {},
   "outputs": [],
   "source": [
    "passport = \"\"\n",
    "passports = []\n",
    "invalid_pass = []\n",
    "req = ['byr', 'iyr', 'eyr', 'hgt', 'hcl', 'ecl', 'pid']\n",
    "for line in data:\n",
    "    if line != \"\":\n",
    "        line = line.replace(\" \", \", \")\n",
    "        line = line.replace(':', '\":\"')\n",
    "        line = line.replace(', ', '\",\"') \n",
    "        passport += '\"' + line + '\" '\n",
    "    if line == \"\":\n",
    "\n",
    "        passdata = dict(ast.literal_eval(\"{\" + passport.replace(\" \", \", \")  + \"}\"))\n",
    "        if all(val in passdata.keys() for val in req):\n",
    "            #print(passdata.keys())\n",
    "            passports.append(passdata)\n",
    "        else:\n",
    "            invalid_pass.append(passdata)\n",
    "        passport = \"\"\n",
    "print('correct', len(passports))"
   ]
  },
  {
   "cell_type": "code",
   "execution_count": null,
   "metadata": {
    "scrolled": true
   },
   "outputs": [],
   "source": [
    "passport = \"\"\n",
    "passports = []\n",
    "invalid_pass = []\n",
    "req = ['byr', 'iyr', 'eyr', 'hgt', 'hcl', 'ecl', 'pid']\n",
    "for i, line in enumerate(data):\n",
    "    if line != \"\":\n",
    "        line = line.replace(\" \", \", \")\n",
    "        line = line.replace(':', '\":\"')\n",
    "        line = line.replace(', ', '\",\"') \n",
    "        passport += '\"' + line + '\" '\n",
    "    if line == \"\" or i == len(data)+1:\n",
    "        passdata = dict(ast.literal_eval(\"{\" + passport.replace(\" \", \", \")  + \"}\"))\n",
    "        correct = {'byr':0, 'iyr':0, 'eyr':0, 'hcl':0, 'ecl':0, 'pid':0, 'hgt':0}\n",
    "        if all(val in passdata.keys() for val in req):\n",
    "            passdata['byr'] = int(passdata['byr'])\n",
    "            if(passdata['byr'] >= 1920 and passdata['byr'] <= 2002):\n",
    "                correct['byr'] = passdata['byr']\n",
    "                \n",
    "            passdata['iyr'] = int(passdata['iyr']) \n",
    "            if(passdata['iyr'] >= 2010 and passdata['iyr'] <= 2020):\n",
    "                correct['iyr'] = passdata['iyr'] \n",
    "            \n",
    "            passdata['eyr'] = int(passdata['eyr']) \n",
    "            if(passdata['eyr'] >= 2020 and passdata['eyr'] <= 2030):\n",
    "                correct['eyr'] = passdata['eyr']\n",
    "                    \n",
    "            hgt = int(''.join(c for c in passdata['hgt'] if c.isdigit()))\n",
    "            if (passdata['hgt'][-2:] == 'cm' and hgt >= 150 and hgt <= 193) or (passdata['hgt'][-2:] == 'in' and hgt >= 59 and hgt <= 76):\n",
    "                correct['hgt'] = passdata['hgt']\n",
    "                \n",
    "            if re.match('#[a-f0-9]{6,}', passdata['hcl']):\n",
    "                correct['hcl'] = passdata['hcl']  \n",
    "                \n",
    "            eyecol = [\"amb\", \"blu\", \"brn\", \"gry\", \"grn\", \"hzl\", \"oth\"]\n",
    "            \n",
    "            if passdata['ecl'] in eyecol:\n",
    "                correct['ecl'] = passdata['ecl']   \n",
    "                \n",
    "            if re.match('[0-9]{9,}', passdata['pid']) and len(passdata['pid']) == 9:\n",
    "                correct['pid'] = passdata['pid']  \n",
    "                \n",
    "            if all(val != 0 for val in correct.values()):\n",
    "                passports.append(correct)\n",
    "            else:\n",
    "                invalid_pass.append(passdata)\n",
    "        else:\n",
    "            invalid_pass.append(passdata)\n",
    "        passport = \"\"\n",
    "print('correct', len(passports))"
   ]
  },
  {
   "cell_type": "code",
   "execution_count": null,
   "metadata": {},
   "outputs": [],
   "source": []
  }
 ],
 "metadata": {
  "kernelspec": {
   "display_name": "Python 3",
   "language": "python",
   "name": "python3"
  },
  "language_info": {
   "codemirror_mode": {
    "name": "ipython",
    "version": 3
   },
   "file_extension": ".py",
   "mimetype": "text/x-python",
   "name": "python",
   "nbconvert_exporter": "python",
   "pygments_lexer": "ipython3",
   "version": "3.7.3"
  }
 },
 "nbformat": 4,
 "nbformat_minor": 2
}
