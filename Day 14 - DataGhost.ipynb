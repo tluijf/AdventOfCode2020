{
 "cells": [
  {
   "cell_type": "code",
   "execution_count": 3,
   "metadata": {},
   "outputs": [],
   "source": [
    "def read_file(name):\n",
    "    return [line.rstrip('\\n') for line in open(name)]"
   ]
  },
  {
   "cell_type": "code",
   "execution_count": 31,
   "metadata": {
    "scrolled": true
   },
   "outputs": [
    {
     "name": "stdout",
     "output_type": "stream",
     "text": [
      "2.28 ms ± 75.8 µs per loop (mean ± std. dev. of 7 runs, 100 loops each)\n",
      "11179633149677\n"
     ]
    }
   ],
   "source": [
    "def day14a(data):\n",
    "    memory = {}\n",
    "    for line in data:\n",
    "        if line[:4] == 'mask':\n",
    "            bitmap = line.split(' = ')[1]\n",
    "        else:\n",
    "            mem, val = int(line.split(' = ')[0].lstrip('mem[').rstrip(']')), int(line.split(' = ')[1])\n",
    "            bin_val = bin(val).lstrip('0b').rjust(len(bitmap),'0')\n",
    "            val = ''.join([x if x != 'X' else bin_val[i] for i,x in enumerate(bitmap)])\n",
    "            memory[mem] = int(val,2)\n",
    "    return sum(memory.values())\n",
    "%timeit day14a(read_file('input/14.txt'))\n",
    "print(day14a(read_file('input/14.txt')))"
   ]
  },
  {
   "cell_type": "code",
   "execution_count": 15,
   "metadata": {},
   "outputs": [
    {
     "name": "stdout",
     "output_type": "stream",
     "text": [
      "141 ms ± 1.66 ms per loop (mean ± std. dev. of 7 runs, 10 loops each)\n",
      "4822600194774\n"
     ]
    }
   ],
   "source": [
    "def get_bin_perm(n):\n",
    "    perms = []\n",
    "    for i in range(2**n):\n",
    "        perms.append(bin(i).lstrip('0b').rjust(n,'0'))\n",
    "    return perms\n",
    "\n",
    "def day14b(data):\n",
    "    memory = {}\n",
    "    perm_dict = {}\n",
    "    for line in data:\n",
    "        if line[:4] == 'mask':\n",
    "            bitmap = line.split(' = ')[1]\n",
    "        else:\n",
    "            mem, val = int(line.split(' = ')[0].lstrip('mem[').rstrip(']')), int(line.split(' = ')[1])\n",
    "            bin_mem = bin(mem).lstrip('0b').rjust(len(bitmap),'0')\n",
    "            mem = ''.join([x if x != '0' else bin_mem[i] for i,x in enumerate(bitmap)])\n",
    "            n = mem.count('X')\n",
    "            if n not in perm_dict:\n",
    "                perm_dict[n] = get_bin_perm(n)\n",
    "            for x in perm_dict[n]:\n",
    "                repmem = mem\n",
    "                for c in x:\n",
    "                    repmem = repmem.replace('X',c, 1)\n",
    "                memory[int(repmem, 2)] = val\n",
    "    return sum(memory.values())\n",
    "%timeit day14b(read_file('input/14.txt'))\n",
    "print(day14b(read_file('input/14.txt')))"
   ]
  },
  {
   "cell_type": "code",
   "execution_count": 51,
   "metadata": {},
   "outputs": [
    {
     "name": "stdout",
     "output_type": "stream",
     "text": [
      "143 ms ± 2.07 ms per loop (mean ± std. dev. of 7 runs, 10 loops each)\n",
      "4822600194774\n"
     ]
    }
   ],
   "source": [
    "def day14c(data):\n",
    "    memory = {}\n",
    "    perm_dict = {}\n",
    "    max_len_data = 0\n",
    "    for line in data:\n",
    "        if 'mem' in line:\n",
    "            i = int(line.split(' = ')[0].lstrip('mem[').rstrip(']'))\n",
    "            l = len(bin(i).lstrip('0b'))\n",
    "        else:\n",
    "            l = len(line.split(' = ')[1].lstrip('X'))\n",
    "        if l > max_len_data:\n",
    "            max_len_data = l\n",
    "    for i,line in enumerate(data):\n",
    "        if line[:4] == 'mask':\n",
    "            bitmap = line.split(' = ')[1]\n",
    "            lead_x = len(bitmap[:len(bitmap)-max_len_data])\n",
    "            bitmap = bitmap[lead_x:]\n",
    "        else:\n",
    "            mem, val = int(line.split(' = ')[0].lstrip('mem[').rstrip(']')), int(line.split(' = ')[1])\n",
    "            bin_mem = bin(mem).lstrip('0b').rjust(len(bitmap),'0')\n",
    "            mem = ''.join([x if x != '0' else bin_mem[i] for i,x in enumerate(bitmap)])\n",
    "            n = mem.count('X')\n",
    "            if n not in perm_dict:\n",
    "                perm_dict[n] = get_bin_perm(n)\n",
    "            for x in perm_dict[n]:\n",
    "                repmem = mem\n",
    "                for c in x:\n",
    "                    repmem = repmem.replace('X',c, 1)\n",
    "                memory[int(repmem, 2)] = val\n",
    "            if i == len(data)-1 and lead_x>0:\n",
    "                mem_remain = (2**lead_x)*val\n",
    "            else:\n",
    "                mem_remain = 0\n",
    "    return sum(memory.values())+mem_remain\n",
    "%timeit day14c(read_file('input/14.txt'))\n",
    "print(day14c(read_file('input/14.txt')))"
   ]
  },
  {
   "cell_type": "code",
   "execution_count": null,
   "metadata": {},
   "outputs": [],
   "source": []
  }
 ],
 "metadata": {
  "kernelspec": {
   "display_name": "Python 3",
   "language": "python",
   "name": "python3"
  },
  "language_info": {
   "codemirror_mode": {
    "name": "ipython",
    "version": 3
   },
   "file_extension": ".py",
   "mimetype": "text/x-python",
   "name": "python",
   "nbconvert_exporter": "python",
   "pygments_lexer": "ipython3",
   "version": "3.7.3"
  }
 },
 "nbformat": 4,
 "nbformat_minor": 2
}
