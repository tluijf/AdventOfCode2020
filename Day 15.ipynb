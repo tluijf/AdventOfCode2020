{
 "cells": [
  {
   "cell_type": "code",
   "execution_count": 53,
   "metadata": {},
   "outputs": [
    {
     "name": "stdout",
     "output_type": "stream",
     "text": [
      "804 µs ± 4.35 µs per loop (mean ± std. dev. of 7 runs, 1000 loops each)\n",
      "part 1 260\n",
      "22.6 s ± 1.17 s per loop (mean ± std. dev. of 7 runs, 1 loop each)\n",
      "part 2 950\n"
     ]
    }
   ],
   "source": [
    "from collections import defaultdict\n",
    "day15input = [13,0,10,12,1,5,8]\n",
    "def day15(data, nth=2020):\n",
    "    turns = defaultdict(list)\n",
    "    counts = defaultdict(int)\n",
    "    last_num = 0\n",
    "    for i in range(nth):\n",
    "        t = data[i] if i < len(data) else 0 if counts[last_num] == 1 else turns[last_num][0]-turns[last_num][1]\n",
    "        turns[t] = [i, turns[t][0] if t in turns else 0]\n",
    "        counts[t] += 1\n",
    "        last_num = t\n",
    "    return last_num\n",
    "%timeit day15(day15input, 2020)\n",
    "print('part 1', day15(day15input, 2020))\n",
    "%timeit day15(day15input, 30000000)\n",
    "print('part 2', day15(day15input, 30000000))"
   ]
  },
  {
   "cell_type": "code",
   "execution_count": null,
   "metadata": {},
   "outputs": [],
   "source": []
  }
 ],
 "metadata": {
  "kernelspec": {
   "display_name": "Python 3",
   "language": "python",
   "name": "python3"
  },
  "language_info": {
   "codemirror_mode": {
    "name": "ipython",
    "version": 3
   },
   "file_extension": ".py",
   "mimetype": "text/x-python",
   "name": "python",
   "nbconvert_exporter": "python",
   "pygments_lexer": "ipython3",
   "version": "3.7.3"
  }
 },
 "nbformat": 4,
 "nbformat_minor": 2
}
