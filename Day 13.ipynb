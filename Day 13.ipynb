{
 "cells": [
  {
   "cell_type": "code",
   "execution_count": null,
   "metadata": {},
   "outputs": [],
   "source": [
    "def read_file(name):\n",
    "    return [line.rstrip('\\n') for line in open(name)]"
   ]
  },
  {
   "cell_type": "code",
   "execution_count": null,
   "metadata": {},
   "outputs": [],
   "source": [
    "def day13a(data):\n",
    "    arrival = int(data[0])\n",
    "    busses = [int(x) for x in data[1].split(',') if x.isnumeric()]\n",
    "    wait = {x:0 for x in busses}\n",
    "    for bus in busses:\n",
    "        wait[bus] = bus-(arrival%bus)\n",
    "    return([k*v for k,v in wait.items() if v == min(wait.values())])\n",
    "print(day13a(read_file('input/13.txt')))\n",
    "%timeit day13a(read_file('input/13.txt'))"
   ]
  },
  {
   "cell_type": "code",
   "execution_count": null,
   "metadata": {},
   "outputs": [],
   "source": [
    "def day13b(busses):\n",
    "    m = {int(bus): -i % int(bus) for i, bus in enumerate(busses[1].split(',')) if bus != \"x\"}\n",
    "    vals = list(reversed(sorted(m)))\n",
    "    r = vals[0]\n",
    "    val = m[r]\n",
    "    for b in vals[1:]:\n",
    "        while val % b != m[b]:\n",
    "            val += r\n",
    "        r *= b\n",
    "    return val\n",
    "print(day13b(read_file('input/13.txt')))\n",
    "%timeit day13b(read_file('input/13.txt'))"
   ]
  }
 ],
 "metadata": {
  "kernelspec": {
   "display_name": "Python 3",
   "language": "python",
   "name": "python3"
  },
  "language_info": {
   "codemirror_mode": {
    "name": "ipython",
    "version": 3
   },
   "file_extension": ".py",
   "mimetype": "text/x-python",
   "name": "python",
   "nbconvert_exporter": "python",
   "pygments_lexer": "ipython3",
   "version": "3.7.6"
  }
 },
 "nbformat": 4,
 "nbformat_minor": 4
}
