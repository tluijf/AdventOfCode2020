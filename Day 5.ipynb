{
 "cells": [
  {
   "cell_type": "code",
   "execution_count": null,
   "metadata": {},
   "outputs": [],
   "source": [
    "fileName = 'input//5.txt'\n",
    "data = [line.rstrip('\\n') for line in open(fileName)]"
   ]
  },
  {
   "cell_type": "code",
   "execution_count": null,
   "metadata": {},
   "outputs": [],
   "source": [
    "score = 0\n",
    "for line in data:\n",
    "    binar = line.replace(\"B\",\"1\")\n",
    "    binar = binar.replace(\"F\",\"0\")\n",
    "    binar = binar.replace(\"R\",\"1\")\n",
    "    binar = binar.replace(\"L\",\"0\")\n",
    "    rows = int(binar[:7],base=2)\n",
    "    seat = int(binar[7:],base=2)\n",
    "    sc = rows*8+seat\n",
    "    if sc > score:\n",
    "        score = sc\n",
    "print(score)"
   ]
  },
  {
   "cell_type": "code",
   "execution_count": null,
   "metadata": {},
   "outputs": [],
   "source": [
    "seats = []\n",
    "for line in data:\n",
    "    binar = line.replace(\"B\",\"1\")\n",
    "    binar = binar.replace(\"F\",\"0\")\n",
    "    binar = binar.replace(\"R\",\"1\")\n",
    "    binar = binar.replace(\"L\",\"0\")\n",
    "    rows = int(binar[:7],base=2)\n",
    "    seat = int(binar[7:],base=2)\n",
    "    seats.append(rows*8+seat)\n",
    "seats = set(seats)\n",
    "for i in range(min(seats), max(seats)+1):\n",
    "    if i not in seats:\n",
    "        print(i)"
   ]
  },
  {
   "cell_type": "code",
   "execution_count": null,
   "metadata": {},
   "outputs": [],
   "source": []
  }
 ],
 "metadata": {
  "kernelspec": {
   "display_name": "Python 3",
   "language": "python",
   "name": "python3"
  },
  "language_info": {
   "codemirror_mode": {
    "name": "ipython",
    "version": 3
   },
   "file_extension": ".py",
   "mimetype": "text/x-python",
   "name": "python",
   "nbconvert_exporter": "python",
   "pygments_lexer": "ipython3",
   "version": "3.7.6"
  }
 },
 "nbformat": 4,
 "nbformat_minor": 4
}
