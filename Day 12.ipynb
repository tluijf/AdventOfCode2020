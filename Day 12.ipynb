{
 "cells": [
  {
   "cell_type": "code",
   "execution_count": null,
   "metadata": {},
   "outputs": [],
   "source": [
    "import numpy as np\n",
    "def read_file(name):\n",
    "    return [line.rstrip('\\n') for line in open(name)]"
   ]
  },
  {
   "cell_type": "code",
   "execution_count": null,
   "metadata": {},
   "outputs": [],
   "source": [
    "def day12a(data, x=0, y=0):\n",
    "    pos = np.array([x,y])\n",
    "    headings = {0:'E', 90:'S', 180:'W', 270:'N'}\n",
    "    directions = {'E':[1,0], 'S':[0,-1], 'W':[-1,0], 'N':[0,1]}\n",
    "    heading = 0\n",
    "    for d in data:\n",
    "        di = d[0]\n",
    "        s = int(''.join(c for c in d if c.isdigit()))\n",
    "        if di == 'F':\n",
    "            pos = pos+np.array(directions[headings[heading]])*s\n",
    "        elif di == 'R':\n",
    "            heading = (heading+s)%360\n",
    "        elif di == 'L':\n",
    "            heading = abs((heading-s)%360)\n",
    "        else:\n",
    "            pos = pos+(np.array(directions[di])*s)\n",
    "    return abs(pos[0]+pos[1])\n",
    "print(day12a(read_file('input/12.txt')))"
   ]
  },
  {
   "cell_type": "code",
   "execution_count": null,
   "metadata": {},
   "outputs": [],
   "source": [
    "def shift_way(way, di, s):\n",
    "    if s == 180:\n",
    "        n_way = [-way[0],-way[1]]\n",
    "    if (di == 'R' and s == 90) or (di == 'L' and s == 270):\n",
    "        n_way = [way[1],-way[0]]\n",
    "    if (di == 'L' and s == 90) or (di == 'R' and s == 270):\n",
    "        n_way = [-way[1],way[0]]\n",
    "    return n_way\n",
    "\n",
    "def day12b(data, e=0, n=0):\n",
    "    way = np.array([e,n])\n",
    "    pos = np.array([0,0])\n",
    "    directions = {'E':[1,0], 'S':[0,-1], 'W':[-1,0], 'N':[0,1]}\n",
    "    for d in data:\n",
    "        di = d[0]\n",
    "        s = int(''.join(c for c in d if c.isdigit()))\n",
    "        if di == 'F':\n",
    "            pos = pos+(way*s)\n",
    "        elif di in ['R','L']:\n",
    "            way = np.array(shift_way(way, di, s))\n",
    "        else:\n",
    "            way = way+(np.array(directions[di])*s)\n",
    "    return abs(pos[0])+(pos[1])\n",
    "print(day12b(read_file('input/12.txt'), 10, 1))"
   ]
  },
  {
   "cell_type": "code",
   "execution_count": null,
   "metadata": {},
   "outputs": [],
   "source": []
  }
 ],
 "metadata": {
  "kernelspec": {
   "display_name": "Python 3",
   "language": "python",
   "name": "python3"
  },
  "language_info": {
   "codemirror_mode": {
    "name": "ipython",
    "version": 3
   },
   "file_extension": ".py",
   "mimetype": "text/x-python",
   "name": "python",
   "nbconvert_exporter": "python",
   "pygments_lexer": "ipython3",
   "version": "3.7.6"
  }
 },
 "nbformat": 4,
 "nbformat_minor": 4
}
