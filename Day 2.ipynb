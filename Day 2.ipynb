{
 "cells": [
  {
   "cell_type": "code",
   "execution_count": null,
   "metadata": {},
   "outputs": [],
   "source": [
    "fileName = 'input 2.txt'\n",
    "data = [line.rstrip('\\n') for line in open(fileName)]\n",
    "print(data)"
   ]
  },
  {
   "cell_type": "code",
   "execution_count": null,
   "metadata": {},
   "outputs": [],
   "source": [
    "correct_passwords = []\n",
    "for l in data:\n",
    "    cont = l.split(\" \")\n",
    "    limits = cont[0].split(\"-\")\n",
    "    let = cont[1].rstrip(':')\n",
    "    count = cont[2].count(let)\n",
    "    if cont[2].count(let) >= int(limits[0]) and cont[2].count(let) <= int(limits[1]):\n",
    "        correct_passwords.append(cont[2])\n",
    "print(len(correct_passwords))"
   ]
  },
  {
   "cell_type": "code",
   "execution_count": null,
   "metadata": {
    "scrolled": true
   },
   "outputs": [],
   "source": [
    "correct_passwords = []\n",
    "for l in data:\n",
    "    cont = l.split(\" \")\n",
    "    limits = cont[0].split(\"-\")\n",
    "    let = cont[1].rstrip(':')\n",
    "    if len(cont[2])>=int(limits[1]):\n",
    "        if (cont[2][int(limits[0])-1] == let) ^ (cont[2][int(limits[1])-1] == let):\n",
    "            correct_passwords.append(cont[2])\n",
    "    else:\n",
    "        if (cont[2][int(limits[0])-1] == let):\n",
    "            correct_passwords.append(cont[2])\n",
    "print(len(correct_passwords))"
   ]
  },
  {
   "cell_type": "code",
   "execution_count": null,
   "metadata": {},
   "outputs": [],
   "source": []
  },
  {
   "cell_type": "code",
   "execution_count": null,
   "metadata": {},
   "outputs": [],
   "source": []
  }
 ],
 "metadata": {
  "kernelspec": {
   "display_name": "Python 3",
   "language": "python",
   "name": "python3"
  },
  "language_info": {
   "codemirror_mode": {
    "name": "ipython",
    "version": 3
   },
   "file_extension": ".py",
   "mimetype": "text/x-python",
   "name": "python",
   "nbconvert_exporter": "python",
   "pygments_lexer": "ipython3",
   "version": "3.7.3"
  }
 },
 "nbformat": 4,
 "nbformat_minor": 2
}
