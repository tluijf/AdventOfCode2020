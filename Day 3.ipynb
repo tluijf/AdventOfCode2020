{
 "cells": [
  {
   "cell_type": "code",
   "execution_count": null,
   "metadata": {},
   "outputs": [],
   "source": [
    "fileName = 'input3.txt'\n",
    "data = [line.rstrip('\\n') for line in open(fileName)]"
   ]
  },
  {
   "cell_type": "code",
   "execution_count": null,
   "metadata": {},
   "outputs": [],
   "source": [
    "mod_y = len(data[0])\n",
    "mod_x = len(data)\n",
    "y = 0\n",
    "trees = 0\n",
    "for i in range(0, len(data)+1, 2):\n",
    "    print(i, i%mod_x, y,y % mod_y)\n",
    "    if data[i%mod_x][y % mod_y] == \"#\" and i < len(data):\n",
    "        trees += 1\n",
    "    y += 1\n",
    "print(trees)"
   ]
  },
  {
   "cell_type": "code",
   "execution_count": null,
   "metadata": {},
   "outputs": [],
   "source": [
    "from functools import reduce\n",
    "mod_y = len(data[0])\n",
    "mod_x = len(data)\n",
    "trees = []\n",
    "steps = [(1,1),(1,3),(1,5),(1,7),(2,1)]\n",
    "for step in steps:\n",
    "    step_tree = 0\n",
    "    y = 0\n",
    "    for s, i in enumerate(range(0, len(data)+1, step[0])):\n",
    "        if data[i % mod_x][(y % mod_y)] == \"#\" and i < len(data):\n",
    "            step_tree += 1\n",
    "        y += step[1]\n",
    "    trees.append(step_tree)\n",
    "print(trees)\n",
    "print(reduce((lambda x, y: x * y), trees))"
   ]
  },
  {
   "cell_type": "code",
   "execution_count": null,
   "metadata": {},
   "outputs": [],
   "source": []
  },
  {
   "cell_type": "code",
   "execution_count": null,
   "metadata": {},
   "outputs": [],
   "source": []
  },
  {
   "cell_type": "code",
   "execution_count": null,
   "metadata": {},
   "outputs": [],
   "source": []
  }
 ],
 "metadata": {
  "kernelspec": {
   "display_name": "Python 3",
   "language": "python",
   "name": "python3"
  },
  "language_info": {
   "codemirror_mode": {
    "name": "ipython",
    "version": 3
   },
   "file_extension": ".py",
   "mimetype": "text/x-python",
   "name": "python",
   "nbconvert_exporter": "python",
   "pygments_lexer": "ipython3",
   "version": "3.7.3"
  }
 },
 "nbformat": 4,
 "nbformat_minor": 2
}
