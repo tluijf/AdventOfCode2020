{
 "cells": [
  {
   "cell_type": "code",
   "execution_count": 1,
   "metadata": {},
   "outputs": [],
   "source": [
    "fileName = 'input\\\\8.txt'\n",
    "data = [line.rstrip('\\n') for line in open(fileName)]"
   ]
  },
  {
   "cell_type": "code",
   "execution_count": 7,
   "metadata": {},
   "outputs": [
    {
     "name": "stdout",
     "output_type": "stream",
     "text": [
      "1501\n"
     ]
    }
   ],
   "source": [
    "#prob1\n",
    "accumulator = 0\n",
    "instruction = []\n",
    "i = 0\n",
    "while i not in instruction:\n",
    "    inp = data[i].split(' ')\n",
    "    instruction.append(i)\n",
    "    if inp[0] == 'nop':\n",
    "        i += 1\n",
    "    elif inp[0] == 'acc':\n",
    "        accumulator += int(inp[1])\n",
    "        i += 1\n",
    "    elif inp[0] == 'jmp':\n",
    "        i += int(inp[1])\n",
    "print(accumulator)"
   ]
  },
  {
   "cell_type": "code",
   "execution_count": 19,
   "metadata": {
    "scrolled": true
   },
   "outputs": [
    {
     "name": "stdout",
     "output_type": "stream",
     "text": [
      "0 0\n",
      "1 1\n",
      "2 2\n",
      "3 3\n",
      "4 4\n",
      "13 13\n",
      "14 14\n",
      "15 15\n",
      "16 16\n",
      "17 17\n",
      "29 29\n",
      "42 42\n",
      "47 47\n",
      "48 48\n",
      "49 49\n",
      "50 50\n",
      "63 63\n",
      "64 64\n",
      "65 65\n",
      "66 66\n",
      "67 67\n",
      "69 69\n",
      "70 70\n",
      "71 71\n",
      "72 72\n",
      "77 77\n",
      "79 79\n",
      "80 80\n",
      "98 98\n",
      "99 99\n",
      "100 100\n",
      "102 102\n",
      "103 103\n",
      "104 104\n",
      "116 116\n",
      "119 119\n",
      "120 120\n",
      "121 121\n",
      "133 133\n",
      "134 134\n",
      "140 140\n",
      "141 141\n",
      "142 142\n",
      "143 143\n",
      "149 149\n",
      "150 150\n",
      "157 157\n",
      "158 158\n",
      "159 159\n",
      "160 160\n",
      "161 161\n",
      "167 167\n",
      "172 172\n",
      "173 173\n",
      "174 174\n",
      "175 175\n",
      "176 176\n",
      "192 192\n",
      "193 193\n",
      "194 194\n",
      "195 195\n",
      "196 196\n",
      "200 200\n",
      "201 201\n",
      "213 213\n",
      "214 214\n",
      "215 215\n",
      "216 216\n",
      "509\n"
     ]
    }
   ],
   "source": [
    "#prob2\n",
    "end = 0\n",
    "for c in range(len(data)):\n",
    "    i = 0\n",
    "    accumulator = 0\n",
    "    instruction = []\n",
    "    while i not in instruction:\n",
    "        if i == len(data):\n",
    "            end = 1\n",
    "            break\n",
    "        inp = data[i].split(' ')\n",
    "        if i == c:\n",
    "            if inp[0] == 'nop':\n",
    "                inp[0] = 'jmp'\n",
    "            elif inp[0] == 'jmp':\n",
    "                inp[0] = 'nop'\n",
    "        instruction.append(i)\n",
    "        if inp[0] == 'nop':\n",
    "            i += 1\n",
    "        elif inp[0] == 'acc':\n",
    "            accumulator += int(inp[1])\n",
    "            i += 1\n",
    "        elif inp[0] == 'jmp':\n",
    "            i += int(inp[1])\n",
    "    if end == 1:\n",
    "        break\n",
    "print(accumulator)"
   ]
  },
  {
   "cell_type": "code",
   "execution_count": null,
   "metadata": {},
   "outputs": [],
   "source": []
  }
 ],
 "metadata": {
  "kernelspec": {
   "display_name": "Python 3",
   "language": "python",
   "name": "python3"
  },
  "language_info": {
   "codemirror_mode": {
    "name": "ipython",
    "version": 3
   },
   "file_extension": ".py",
   "mimetype": "text/x-python",
   "name": "python",
   "nbconvert_exporter": "python",
   "pygments_lexer": "ipython3",
   "version": "3.7.3"
  }
 },
 "nbformat": 4,
 "nbformat_minor": 2
}
