{
 "cells": [
  {
   "cell_type": "code",
   "execution_count": null,
   "metadata": {},
   "outputs": [],
   "source": [
    "def read_file(name):\n",
    "    return [line.rstrip('\\n') for line in open(name)]"
   ]
  },
  {
   "cell_type": "code",
   "execution_count": null,
   "metadata": {},
   "outputs": [],
   "source": [
    "def d11a(data, occupied=0):\n",
    "    new_state = data.copy()\n",
    "    for ri, r in enumerate(data):\n",
    "        for ci, c in enumerate(r):\n",
    "            check_list = []\n",
    "            directions = [[-1,-1],[0,-1],[1,-1],[-1,0],[1,0],[-1,1],[0,1],[1,1]]\n",
    "            for direction in directions:\n",
    "                sri = ri+direction[1]\n",
    "                sci = ci+direction[0]\n",
    "                if (0 <= sri < len(data)) and (0 <= sci < len(r)):\n",
    "                    check_list.append(data[sri][sci])\n",
    "            if (check_list.count('L')+check_list.count('.')) == len(check_list) and data[ri][ci] == 'L':\n",
    "                mut_str = list(new_state[ri])\n",
    "                mut_str[ci] = '#' \n",
    "                new_state[ri] = ''.join(mut_str)\n",
    "            if data[ri][ci] == '#' and check_list.count('#') >= 4:\n",
    "                mut_str = list(new_state[ri])\n",
    "                mut_str[ci] = 'L' \n",
    "                new_state[ri] = ''.join(mut_str)\n",
    "    new_occupied = ''.join(new_state).count('#')\n",
    "    if occupied != new_occupied:\n",
    "        new_occupied = d11a(new_state, new_occupied)\n",
    "    return new_occupied\n",
    "%timeit d11a(read_file('input/11.txt'))\n",
    "print(d11a(read_file('input/11.txt')))"
   ]
  },
  {
   "cell_type": "code",
   "execution_count": null,
   "metadata": {},
   "outputs": [],
   "source": [
    "def d11b(data, occupied=0):\n",
    "    new_state = data.copy()\n",
    "    for ri, r in enumerate(data):\n",
    "        for ci, c in enumerate(r):\n",
    "            check_list = []\n",
    "            directions = [[-1,-1],[0,-1],[1,-1],[-1,0],[1,0],[-1,1],[0,1],[1,1]]\n",
    "            for direction in directions:\n",
    "                sri = ri+direction[1]\n",
    "                sci = ci+direction[0]\n",
    "                while (0 <= sri < len(data)) and (0 <= sci < len(r)):\n",
    "                    if data[sri][sci] == '.':\n",
    "                        sri = sri+direction[1]\n",
    "                        sci = sci+direction[0]\n",
    "                    else:\n",
    "                        check_list.append(data[sri][sci])\n",
    "                        break\n",
    "            if (check_list.count('L')+check_list.count('.')) == len(check_list) and data[ri][ci] == 'L':\n",
    "                mut_str = list(new_state[ri])\n",
    "                mut_str[ci] = '#' \n",
    "                new_state[ri] = ''.join(mut_str)\n",
    "            if data[ri][ci] == '#' and check_list.count('#') >= 5:\n",
    "                mut_str = list(new_state[ri])\n",
    "                mut_str[ci] = 'L' \n",
    "                new_state[ri] = ''.join(mut_str)\n",
    "    new_occupied = ''.join(new_state).count('#')\n",
    "    if occupied != new_occupied:\n",
    "        new_occupied = d11b(new_state, new_occupied)\n",
    "    return new_occupied\n",
    "%timeit d11b(read_file('input/11.txt'))\n",
    "print(d11b(read_file('input/11.txt')))"
   ]
  },
  {
   "cell_type": "code",
   "execution_count": null,
   "metadata": {},
   "outputs": [],
   "source": []
  }
 ],
 "metadata": {
  "kernelspec": {
   "display_name": "Python 3",
   "language": "python",
   "name": "python3"
  },
  "language_info": {
   "codemirror_mode": {
    "name": "ipython",
    "version": 3
   },
   "file_extension": ".py",
   "mimetype": "text/x-python",
   "name": "python",
   "nbconvert_exporter": "python",
   "pygments_lexer": "ipython3",
   "version": "3.7.3"
  }
 },
 "nbformat": 4,
 "nbformat_minor": 2
}
