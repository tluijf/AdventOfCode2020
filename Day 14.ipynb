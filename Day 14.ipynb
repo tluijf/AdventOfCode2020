{
 "cells": [
  {
   "cell_type": "code",
   "execution_count": null,
   "metadata": {},
   "outputs": [],
   "source": [
    "import numpy as np\n",
    "from collections import defaultdict\n",
    "def read_file(name):\n",
    "    return [line.rstrip('\\n') for line in open(name)]"
   ]
  },
  {
   "cell_type": "code",
   "execution_count": null,
   "metadata": {
    "scrolled": true
   },
   "outputs": [],
   "source": [
    "def day14a(data):\n",
    "    memory = np.zeros(100000, dtype=np.float64)\n",
    "    for line in data:\n",
    "        if line[:4] == 'mask':\n",
    "            bitmap = line.split(' = ')[1].replace('X', '_')\n",
    "        else:\n",
    "            mem, val = int(line.split(' = ')[0].lstrip('mem[').rstrip(']')), int(line.split(' = ')[1])\n",
    "            bin_val = bin(val).lstrip('0b').rjust(len(bitmap),'0')\n",
    "            val = ''.join([x if x != '_' else bin_val[i] for i,x in enumerate(bitmap)])\n",
    "            memory[mem] = int(val,2)\n",
    "    return int(np.nansum(memory))\n",
    "print(day14a(read_file('input/14.txt')))"
   ]
  },
  {
   "cell_type": "code",
   "execution_count": null,
   "metadata": {},
   "outputs": [],
   "source": [
    "def get_bin_perm(n):\n",
    "    perms = []\n",
    "    for i in range(2**n):\n",
    "        perms.append(bin(i).lstrip('0b').rjust(n,'0'))\n",
    "    return perms\n",
    "\n",
    "def day14b(data):\n",
    "    memory = defaultdict(int)\n",
    "    for line in data:\n",
    "        if line[:4] == 'mask':\n",
    "            bitmap = line.split(' = ')[1].replace('X', '_')\n",
    "        else:\n",
    "            mem, val = int(line.split(' = ')[0].lstrip('mem[').rstrip(']')), int(line.split(' = ')[1])\n",
    "            bin_mem = bin(mem).lstrip('0b').rjust(len(bitmap),'0')\n",
    "            mem = ''.join([x if x != '0' else bin_mem[i] for i,x in enumerate(bitmap)])\n",
    "            perms = get_bin_perm(mem.count('_'))\n",
    "            for i, x in enumerate(perms):\n",
    "                repmem = mem\n",
    "                for c in x:\n",
    "                    repmem = repmem.replace('_',c, 1)\n",
    "                memory[int(repmem, 2)] = val\n",
    "    return sum(memory.values())\n",
    "print(day14b(read_file('input/14.txt')))"
   ]
  },
  {
   "cell_type": "code",
   "execution_count": null,
   "metadata": {},
   "outputs": [],
   "source": []
  }
 ],
 "metadata": {
  "kernelspec": {
   "display_name": "Python 3",
   "language": "python",
   "name": "python3"
  },
  "language_info": {
   "codemirror_mode": {
    "name": "ipython",
    "version": 3
   },
   "file_extension": ".py",
   "mimetype": "text/x-python",
   "name": "python",
   "nbconvert_exporter": "python",
   "pygments_lexer": "ipython3",
   "version": "3.7.3"
  }
 },
 "nbformat": 4,
 "nbformat_minor": 2
}
