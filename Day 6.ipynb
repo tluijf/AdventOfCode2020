{
 "cells": [
  {
   "cell_type": "code",
   "execution_count": null,
   "metadata": {},
   "outputs": [],
   "source": [
    "fileName = 'input\\\\6.txt'\n",
    "with open(fileName, 'r') as file:\n",
    "    data = file.read().rstrip('\\n').split('\\n\\n')"
   ]
  },
  {
   "cell_type": "code",
   "execution_count": null,
   "metadata": {},
   "outputs": [],
   "source": [
    "#prob1\n",
    "ans = [list(set(x.replace('\\n', ''))) for x in data]\n",
    "print(sum([len(x) for x in ans]))"
   ]
  },
  {
   "cell_type": "code",
   "execution_count": null,
   "metadata": {},
   "outputs": [],
   "source": [
    "#prob2\n",
    "import collections\n",
    "groups = [x.split('\\n') for x in data]\n",
    "all_ans = []\n",
    "for group in groups:\n",
    "    c = collections.Counter()\n",
    "    people = len(group)\n",
    "    for p in group:\n",
    "        c.update(p)\n",
    "    check = [x for x, count in c.items() if count == people]\n",
    "    all_ans.append(check)\n",
    "print(sum([len(x) for x in all_ans]))"
   ]
  },
  {
   "cell_type": "code",
   "execution_count": null,
   "metadata": {},
   "outputs": [],
   "source": []
  }
 ],
 "metadata": {
  "kernelspec": {
   "display_name": "Python 3",
   "language": "python",
   "name": "python3"
  },
  "language_info": {
   "codemirror_mode": {
    "name": "ipython",
    "version": 3
   },
   "file_extension": ".py",
   "mimetype": "text/x-python",
   "name": "python",
   "nbconvert_exporter": "python",
   "pygments_lexer": "ipython3",
   "version": "3.7.6"
  }
 },
 "nbformat": 4,
 "nbformat_minor": 4
}
