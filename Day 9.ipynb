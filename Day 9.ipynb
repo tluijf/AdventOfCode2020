{
 "cells": [
  {
   "cell_type": "code",
   "execution_count": null,
   "metadata": {},
   "outputs": [],
   "source": [
    "fileName = 'input\\\\9.txt'\n",
    "data = [int(line.rstrip('\\n')) for line in open(fileName)]"
   ]
  },
  {
   "cell_type": "code",
   "execution_count": null,
   "metadata": {},
   "outputs": [],
   "source": [
    "for i in range(25, len(data)-25):\n",
    "    c = data[i]\n",
    "    sums = 0\n",
    "    for x in range(25):\n",
    "        if int(c-data[i-25+x]) in data[i-25:i]:\n",
    "            sums = 1\n",
    "    if sums == 0:\n",
    "        break\n",
    "print(c)"
   ]
  },
  {
   "cell_type": "code",
   "execution_count": null,
   "metadata": {},
   "outputs": [],
   "source": [
    "for i in range(len(data)):\n",
    "    for p in range(1, len(data)-i):\n",
    "        if (sum(data[i:i+p]) >= float(c)):\n",
    "            break\n",
    "    if sum(data[i:i+p]) == c:\n",
    "        break\n",
    "print(min(data[i:i+p])+max(data[i:i+p]))"
   ]
  },
  {
   "cell_type": "code",
   "execution_count": null,
   "metadata": {},
   "outputs": [],
   "source": []
  }
 ],
 "metadata": {
  "kernelspec": {
   "display_name": "Python 3",
   "language": "python",
   "name": "python3"
  },
  "language_info": {
   "codemirror_mode": {
    "name": "ipython",
    "version": 3
   },
   "file_extension": ".py",
   "mimetype": "text/x-python",
   "name": "python",
   "nbconvert_exporter": "python",
   "pygments_lexer": "ipython3",
   "version": "3.7.3"
  }
 },
 "nbformat": 4,
 "nbformat_minor": 2
}
