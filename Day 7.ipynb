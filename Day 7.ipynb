{
 "cells": [
  {
   "cell_type": "code",
   "execution_count": null,
   "metadata": {},
   "outputs": [],
   "source": [
    "fileName = 'input\\\\7.txt'\n",
    "data = [line.rstrip('\\n') for line in open(fileName)]"
   ]
  },
  {
   "cell_type": "code",
   "execution_count": null,
   "metadata": {},
   "outputs": [],
   "source": [
    "bag = \"shiny gold\"\n",
    "bags = []\n",
    "def check_bag(lines, bag):\n",
    "    global bags\n",
    "    for k,v in lines.items():\n",
    "        v_loop = [b for b in v if bag in b]\n",
    "        if len(v_loop) > 0:\n",
    "            bags.append(k.replace('bags', '' ).strip())\n",
    "            check_bag(lines, k.replace('bags', '' ).strip())\n",
    "\n",
    "lines = {line.split('contain')[0]:line.split('contain')[1].split(',') for line in data}\n",
    "check_bag(lines, bag)\n",
    "\n",
    "print(len(list(set(bags))))"
   ]
  },
  {
   "cell_type": "code",
   "execution_count": null,
   "metadata": {},
   "outputs": [],
   "source": [
    "bag = \"shiny gold bags\"\n",
    "bags = 0\n",
    "def count_content(data, bag, num):\n",
    "    global bags\n",
    "    lines = {line.split('contain')[0]:line.split('contain')[1].split(',') for line in data if bag + \" contain\" in line}\n",
    "    for k,v in lines.items():\n",
    "        for cont in v:\n",
    "            if 'no other' not in cont:\n",
    "                n = int(''.join(c for c in cont if c.isdigit())) * num\n",
    "                name = cont.strip().split(' ', 1)[1].rstrip('.').rstrip('s')+'s'\n",
    "                bags += n\n",
    "                count_content(data, name, n)\n",
    "        \n",
    "count_content(data, bag, 1)\n",
    "print(bags)"
   ]
  },
  {
   "cell_type": "code",
   "execution_count": null,
   "metadata": {},
   "outputs": [],
   "source": []
  }
 ],
 "metadata": {
  "kernelspec": {
   "display_name": "Python 3",
   "language": "python",
   "name": "python3"
  },
  "language_info": {
   "codemirror_mode": {
    "name": "ipython",
    "version": 3
   },
   "file_extension": ".py",
   "mimetype": "text/x-python",
   "name": "python",
   "nbconvert_exporter": "python",
   "pygments_lexer": "ipython3",
   "version": "3.7.3"
  }
 },
 "nbformat": 4,
 "nbformat_minor": 2
}
